{
 "cells": [
  {
   "cell_type": "code",
   "execution_count": null,
   "id": "e821f934",
   "metadata": {},
   "outputs": [],
   "source": [
    "import pandas as pd\n",
    "import plotly.express as px\n",
    "from pandas_datareader import wb\n",
    "\n",
    "from jupyter_dash import JupyterDash\n",
    "from dash import dcc, html\n",
    "from dash.dependencies import Input, Output\n",
    "\n",
    "import dash_bootstrap_components as dbc\n",
    "from dash_bootstrap_templates import load_figure_template"
   ]
  },
  {
   "cell_type": "code",
   "execution_count": null,
   "id": "285eb48d",
   "metadata": {},
   "outputs": [],
   "source": [
    "dbc_css = 'https://cdn.jsdelivr.net/gh/AnnMarieW/dash-bootstrap-templates@V1.0.2/dbc.min.css'\n",
    "load_figure_template('bootstrap')"
   ]
  },
  {
   "cell_type": "markdown",
   "id": "d9ca00ed",
   "metadata": {},
   "source": [
    "# The CO2 explorer app\n",
    "\n",
    "This notebook develops a `JupyterDash` application that allows users to explore CO2 emissions around the world and explore potential drivers of CO2 emissions. "
   ]
  },
  {
   "cell_type": "markdown",
   "id": "1995b8c0",
   "metadata": {},
   "source": [
    "### Data\n",
    "\n",
    "The csv file `world_1960_2021.csv` contains data on CO2 emissions for the world from 1960 to 2021. The data contains two measures of emissions:\n",
    "- EN.ATM.CO2E.KT - CO2 emissions (kt)\n",
    "- EN.ATM.CO2E.PC - CO2 emissions (metric tons per capita)\n"
   ]
  },
  {
   "cell_type": "markdown",
   "id": "5c7e9a56",
   "metadata": {},
   "source": [
    "<div class=\"alert alert-info\">\n",
    "<h3> Task 1</h3>\n",
    "    <p> Import the file <code>world_1960_2021.csv</code> and create two line plots showing total CO2 emissions and CO2 emissions per capita over time. Add the line plots to the app layout.\n",
    "        \n",
    "</div>"
   ]
  },
  {
   "cell_type": "code",
   "execution_count": null,
   "id": "40bb8820",
   "metadata": {},
   "outputs": [],
   "source": []
  },
  {
   "cell_type": "markdown",
   "id": "c31b09cd",
   "metadata": {},
   "source": [
    "<div class=\"alert alert-info\">\n",
    "<h3> Task 2</h3>\n",
    "    <p> Use <code>pandas-datareader</code> to import data on emissions (both total and per capita) for all countries in 2019. \n",
    "        \n",
    "Create a function callled <code>update_map</code> that returns a map of either total CO2 emisisons or per capita CO2 emissions. The function takes a parameter called <code>metric</code>, which indicates whether we want to plot total emissions or per capita emissions. \n",
    "        \n",
    "Use the function to create a map of per capita emissions in 2019 and add the map to the app layout.\n",
    "        \n",
    "</div>"
   ]
  },
  {
   "cell_type": "code",
   "execution_count": null,
   "id": "1c546a64",
   "metadata": {},
   "outputs": [],
   "source": []
  },
  {
   "cell_type": "markdown",
   "id": "002baa5b",
   "metadata": {},
   "source": [
    "<div class=\"alert alert-info\">\n",
    "<h3> Task 3</h3>\n",
    "    <p> Use <code>pandas-datareader</code> to import data on 6 potential drivers of CO2 emissions in countries in 2019. \n",
    "        \n",
    "    indicators = {\n",
    "        'EN.ATM.CO2E.KT'    : 'CO2 (kt)',    \n",
    "        'EN.ATM.CO2E.PC'    : 'CO2 emissions (metric tons per capita)',\n",
    "        'SP.POP.TOTL'       : 'Population, total',\n",
    "        'SP.URB.TOTL.IN.ZS' : 'Urban population (% of total population)',\n",
    "        'NY.GDP.PCAP.PP.KD' : 'GDP per capita, PPP (constant 2017 international $)',\n",
    "        'EG.ELC.ACCS.ZS'    : 'Access to electricity (% of population)',\n",
    "        'AG.LND.AGRI.ZS'    : 'Agricultural land (% of land area)',\n",
    "        'NY.GDP.TOTL.RT.ZS' : 'Total natural resources rents (% of GDP)',\n",
    "        'EG.FEC.RNEW.ZS'    : 'Renewable energy consumption (% of total final energy consumption)'\n",
    "    }\n",
    "    \n",
    "Create a function called <code>update_map</code> that returns a scatter plot of per capita CO2 emissions and one of the potential drivers. The function takes an input called <code>xvar</code>, which is the name of the indicator that we want to plot on the x-axis.\n",
    "\n",
    "Use the function to create a scatter plot of emissions per capita and the share of population with access to electricity (EG.ELC.ACCS.ZS), and add the scatter plot to the app layout.\n",
    "    \n",
    "\n",
    "</div>"
   ]
  },
  {
   "cell_type": "code",
   "execution_count": null,
   "id": "425a1feb",
   "metadata": {},
   "outputs": [],
   "source": []
  },
  {
   "cell_type": "markdown",
   "id": "7cf4fc53",
   "metadata": {},
   "source": [
    "### Selectors"
   ]
  },
  {
   "cell_type": "markdown",
   "id": "d0c72429",
   "metadata": {},
   "source": [
    "<div class=\"alert alert-info\">\n",
    "<h3> Task 4</h3>\n",
    "    <p> Create two selectors: a set of radio buttons that allow users to choose between CO2 emissions per capita or total CO2 emissions, and a dropdown menu that allows user to select between the potential drivers of per capita CO2 emissions.\n",
    "\n",
    "The radio buttons will later be connected to the map, while the dropdown menu will be connected to the scatter plot. But for now, simply add the selectors to the app layout.\n",
    "        \n",
    "</div>"
   ]
  },
  {
   "cell_type": "code",
   "execution_count": null,
   "id": "29fa0299",
   "metadata": {},
   "outputs": [],
   "source": []
  },
  {
   "cell_type": "markdown",
   "id": "77b00895",
   "metadata": {},
   "source": [
    "### App layout"
   ]
  },
  {
   "cell_type": "code",
   "execution_count": null,
   "id": "d5c85c0b",
   "metadata": {},
   "outputs": [],
   "source": [
    "app = JupyterDash(external_stylesheets = [dbc.themes.BOOTSTRAP, dbc_css])\n",
    "\n",
    "app.layout = dbc.Container(\n",
    "    children = [\n",
    "        \n",
    "        # Header\n",
    "        html.H1('CO2 emissions around the world'),\n",
    "        dcc.Markdown(\n",
    "            \"\"\"Data on emissions and potential drivers are extracted from the \n",
    "               [World Development Indicators](https://datatopics.worldbank.org/world-development-indicators/) \n",
    "               database.\"\"\"\n",
    "        ),\n",
    "        \n",
    "    ],\n",
    "    className = 'dbc'\n",
    ")\n",
    "\n",
    "app.run_server()"
   ]
  },
  {
   "cell_type": "markdown",
   "id": "cd6c285c",
   "metadata": {},
   "source": [
    "<div class=\"alert alert-info\">\n",
    "<h3> Task 5</h3>\n",
    "    <p> Make the app interactive by wrapping the functions <code>update_map</code> and <code>update_scatter</code> in callback decorators to allow users to choose which metric they wish to see in the map (total emissions or per capita emissions) and which indicator to plot on the x-axis in the scatter plot.\n",
    "        \n",
    "Use the radio buttons as the input component to <code>update_map</code>, and the dropdown menu as the input component to <code>update_scatter</code>.\n",
    "    \n",
    "</div>"
   ]
  },
  {
   "cell_type": "code",
   "execution_count": null,
   "id": "9b81f8f6",
   "metadata": {},
   "outputs": [],
   "source": []
  },
  {
   "cell_type": "code",
   "execution_count": null,
   "id": "9d10a97c",
   "metadata": {},
   "outputs": [],
   "source": []
  }
 ],
 "metadata": {
  "kernelspec": {
   "display_name": "Python 3 (ipykernel)",
   "language": "python",
   "name": "python3"
  },
  "language_info": {
   "codemirror_mode": {
    "name": "ipython",
    "version": 3
   },
   "file_extension": ".py",
   "mimetype": "text/x-python",
   "name": "python",
   "nbconvert_exporter": "python",
   "pygments_lexer": "ipython3",
   "version": "3.10.9"
  }
 },
 "nbformat": 4,
 "nbformat_minor": 5
}
